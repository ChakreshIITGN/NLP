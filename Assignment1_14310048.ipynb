{
 "cells": [
  {
   "cell_type": "code",
   "execution_count": 1,
   "metadata": {},
   "outputs": [],
   "source": [
    "from scipy.optimize import curve_fit\n",
    "import re"
   ]
  },
  {
   "cell_type": "code",
   "execution_count": 19,
   "metadata": {},
   "outputs": [],
   "source": [
    "##### read the data files from the folder ###########\n",
    "\n",
    "file1 = open('sherlock.txt', 'r')\n",
    "\n",
    "data = file1.readlines()\n",
    "data = list(map(lambda x: x.strip(), data))\n",
    "file1.close()"
   ]
  },
  {
   "cell_type": "markdown",
   "metadata": {},
   "source": [
    "### Lines for removing punctuations and numbers taken from \n",
    "\n",
    "http://techoverflow.in/remove-special-characters-from-a-string-in-python/python/"
   ]
  },
  {
   "cell_type": "code",
   "execution_count": 20,
   "metadata": {},
   "outputs": [
    {
     "data": {
      "text/plain": [
       "103501"
      ]
     },
     "execution_count": 20,
     "metadata": {},
     "output_type": "execute_result"
    }
   ],
   "source": [
    "######### pre-processing the data. Removing all special characters and numbers except space ###########\n",
    "\n",
    "datac = []\n",
    "\n",
    "for i in data:\n",
    "    if len(i) != 0:\n",
    "        new_i = re.sub('[^ a-zA-Z0-9]', '', i)\n",
    "        new_i = re.sub('[0-9]', '', new_i)\n",
    "        new_i.strip()\n",
    "        new_i = new_i.upper()\n",
    "        datac.append(new_i)\n",
    "        \n",
    "len(datac)"
   ]
  },
  {
   "cell_type": "markdown",
   "metadata": {},
   "source": [
    "# Zipf's Law"
   ]
  },
  {
   "cell_type": "code",
   "execution_count": 21,
   "metadata": {},
   "outputs": [],
   "source": [
    "ZipF = {}\n",
    "\n",
    "for i in datac:\n",
    "    \n",
    "    j = i.split(' ')\n",
    "    \n",
    "    for k in j:\n",
    "        \n",
    "        if k in ZipF:\n",
    "            ZipF[k] += 1\n",
    "        else:\n",
    "            ZipF[k] = 1"
   ]
  },
  {
   "cell_type": "code",
   "execution_count": 22,
   "metadata": {},
   "outputs": [],
   "source": [
    "Y = list(ZipF.values())\n",
    "Y = sorted(Y,reverse=True)"
   ]
  },
  {
   "cell_type": "code",
   "execution_count": 23,
   "metadata": {},
   "outputs": [],
   "source": [
    "import matplotlib.pyplot as plt \n",
    "%matplotlib inline "
   ]
  },
  {
   "cell_type": "markdown",
   "metadata": {},
   "source": [
    "## Curve Fitting for Zipf's Law\n",
    "\n",
    "### Fitness Function :\n",
    "\n",
    "#### $$ f = \\frac{A}{r} $$"
   ]
  },
  {
   "cell_type": "code",
   "execution_count": 24,
   "metadata": {},
   "outputs": [],
   "source": [
    "from scipy.optimize import curve_fit\n",
    "\n",
    "x = range(1,len(Y)+1)\n",
    "def func(r, A):\n",
    "    return A/r\n",
    "\n",
    "popt, pcov = curve_fit(func, x,Y)"
   ]
  },
  {
   "cell_type": "code",
   "execution_count": 25,
   "metadata": {},
   "outputs": [
    {
     "data": {
      "image/png": "[encoded data removed]",
      "text/plain": [
       "<Figure size 432x288 with 1 Axes>"
      ]
     },
     "metadata": {},
     "output_type": "display_data"
    },
    {
     "name": "stdout",
     "output_type": "stream",
     "text": [
      "A = 90060.83\n"
     ]
    }
   ],
   "source": [
    "plt.loglog(Y,'-o',color='blue',markersize=5,alpha=0.3, label = 'data')\n",
    "plt.plot(x, func(x, *popt), '--',color='black',label='Fit: A=%.2f' % tuple(popt))\n",
    "plt.xlabel('r (Rank)', fontweight='bold', fontsize=12)\n",
    "plt.ylabel('f (Frequency)',fontweight='bold', fontsize=12)\n",
    "plt.legend(prop={'size':15})\n",
    "plt.show()\n",
    "\n",
    "print('A = %.2f'%(popt[0]))"
   ]
  },
  {
   "cell_type": "markdown",
   "metadata": {},
   "source": [
    "# Heap's Law"
   ]
  },
  {
   "cell_type": "code",
   "execution_count": 26,
   "metadata": {},
   "outputs": [],
   "source": [
    "def heaps(corpus):\n",
    "    \n",
    "    modV = 0 # size of vocabulary (Types)\n",
    "    T = 0    # Number of tokens\n",
    "    D = {}\n",
    "    \n",
    "    for i in corpus:\n",
    "\n",
    "        j = i.split(' ')\n",
    "\n",
    "        for k in j:\n",
    "\n",
    "            if k in D:\n",
    "                D[k] += 1\n",
    "            else:\n",
    "                D[k] = 1\n",
    "    modV = len(list(D.keys()))\n",
    "    T = sum(list(D.values()))\n",
    "    \n",
    "    return modV,T\n"
   ]
  },
  {
   "cell_type": "code",
   "execution_count": 27,
   "metadata": {},
   "outputs": [],
   "source": [
    "V,N = [],[]\n",
    "S = len(datac)\n",
    "l=100\n",
    "while l <= S:\n",
    "    \n",
    "    v,n = heaps(datac[:l]) ### increases the size of corpus with every iteration by l.\n",
    "                           ### l should be large for huge files\n",
    "    V.append(v)\n",
    "    N.append(n)\n",
    "    l+=100   "
   ]
  },
  {
   "cell_type": "markdown",
   "metadata": {},
   "source": [
    "## Curve fitting for Heap's Law :\n",
    "\n",
    "### Fitness Function :\n",
    "\n",
    "### $$ |V| = KN^{\\beta} $$\n",
    "\n"
   ]
  },
  {
   "cell_type": "code",
   "execution_count": 28,
   "metadata": {},
   "outputs": [],
   "source": [
    "from scipy.optimize import curve_fit\n",
    "\n",
    "def func(n, k, b):\n",
    "    return k * (n**b)\n",
    "\n",
    "popt, pcov = curve_fit(func, N,V)"
   ]
  },
  {
   "cell_type": "code",
   "execution_count": 29,
   "metadata": {},
   "outputs": [
    {
     "data": {
      "image/png": "[encoded data removed]",
      "text/plain": [
       "<Figure size 432x288 with 1 Axes>"
      ]
     },
     "metadata": {},
     "output_type": "display_data"
    },
    {
     "name": "stdout",
     "output_type": "stream",
     "text": [
      "K = 22.97, beta = 0.53\n"
     ]
    }
   ],
   "source": [
    "plt.plot(N,V,'-', color='blue', label='data')\n",
    "plt.plot(N, func(N, *popt), '--',color='black',label='Fit: K=%.2f, beta=%.2f' % tuple(popt))\n",
    "plt.ylabel(r'$|V|$', fontsize=15,fontweight='bold')\n",
    "plt.xlabel(r'$N$', fontsize=15,fontweight='bold')\n",
    "plt.legend()\n",
    "plt.show()\n",
    "\n",
    "print('K = %.2f, beta = %.2f'%tuple(popt))"
   ]
  },
  {
   "cell_type": "code",
   "execution_count": null,
   "metadata": {},
   "outputs": [],
   "source": []
  }
 ],
 "metadata": {
  "kernelspec": {
   "display_name": "Python 3",
   "language": "python",
   "name": "python3"
  },
  "language_info": {
   "codemirror_mode": {
    "name": "ipython",
    "version": 3
   },
   "file_extension": ".py",
   "mimetype": "text/x-python",
   "name": "python",
   "nbconvert_exporter": "python",
   "pygments_lexer": "ipython3",
   "version": "3.6.5"
  }
 },
 "nbformat": 4,
 "nbformat_minor": 2
}
